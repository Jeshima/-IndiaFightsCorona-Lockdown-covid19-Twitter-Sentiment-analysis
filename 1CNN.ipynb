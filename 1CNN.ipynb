{
 "cells": [
  {
   "cell_type": "code",
   "execution_count": 3,
   "metadata": {},
   "outputs": [],
   "source": [
    "import os\n",
    "import tensorflow\n",
    "os.environ['KERAS_BACKEND'] = 'tensorflow'\n",
    "\n",
    "import keras\n",
    "from keras.models import Sequential\n",
    "from keras.layers import Dense, Embedding, Dropout, Activation, Conv1D, GlobalMaxPooling1D\n",
    "from keras.preprocessing.text import Tokenizer\n",
    "from keras.preprocessing.sequence import pad_sequences\n",
    "\n",
    "import pandas as pd\n",
    "from termcolor import colored"
   ]
  },
  {
   "cell_type": "code",
   "execution_count": 18,
   "metadata": {},
   "outputs": [
    {
     "name": "stdout",
     "output_type": "stream",
     "text": [
      "\u001b[32mLoading train and test data\u001b[0m\n",
      "\u001b[32mData loaded\u001b[0m\n"
     ]
    }
   ],
   "source": [
    "# Load data\n",
    "print(colored(\"Loading train and test data\", \"green\"))\n",
    "train_data = pd.read_csv('twt_#ifc.csv')\n",
    "test_data = pd.read_csv('f1.csv')\n",
    "print(colored(\"Data loaded\", \"green\"))\n"
   ]
  },
  {
   "cell_type": "code",
   "execution_count": 19,
   "metadata": {},
   "outputs": [
    {
     "data": {
      "text/plain": [
       "(1749, 8)"
      ]
     },
     "execution_count": 19,
     "metadata": {},
     "output_type": "execute_result"
    }
   ],
   "source": [
    "train_data.shape"
   ]
  },
  {
   "cell_type": "code",
   "execution_count": 20,
   "metadata": {},
   "outputs": [
    {
     "data": {
      "text/plain": [
       "(508, 8)"
      ]
     },
     "execution_count": 20,
     "metadata": {},
     "output_type": "execute_result"
    }
   ],
   "source": [
    "test_data.shape"
   ]
  },
  {
   "cell_type": "code",
   "execution_count": 21,
   "metadata": {},
   "outputs": [
    {
     "name": "stdout",
     "output_type": "stream",
     "text": [
      "\u001b[32mTokenizing and padding data\u001b[0m\n",
      "\u001b[33mTokenizing and padding complete\u001b[0m\n"
     ]
    }
   ],
   "source": [
    "\n",
    "# Tokenization\n",
    "print(colored(\"Tokenizing and padding data\", \"green\"))\n",
    "tokenizer = Tokenizer(num_words = 2000, split = ' ')\n",
    "tokenizer.fit_on_texts(train_data['full_text'].astype(str).values)\n",
    "train_tweets = tokenizer.texts_to_sequences(train_data['full_text'].astype(str).values)\n",
    "max_len = max([len(i) for i in train_tweets])\n",
    "train_tweets = pad_sequences(train_tweets, maxlen = max_len)\n",
    "test_tweets = tokenizer.texts_to_sequences(test_data['full_text'].astype(str).values)\n",
    "test_tweets = pad_sequences(test_tweets, maxlen = max_len)\n",
    "print(colored(\"Tokenizing and padding complete\", \"yellow\"))"
   ]
  },
  {
   "cell_type": "code",
   "execution_count": 22,
   "metadata": {},
   "outputs": [
    {
     "name": "stdout",
     "output_type": "stream",
     "text": [
      "Model: \"sequential_5\"\n",
      "_________________________________________________________________\n",
      "Layer (type)                 Output Shape              Param #   \n",
      "=================================================================\n",
      "embedding_5 (Embedding)      (None, 34, 50)            500000    \n",
      "_________________________________________________________________\n",
      "dropout_5 (Dropout)          (None, 34, 50)            0         \n",
      "_________________________________________________________________\n",
      "conv1d_5 (Conv1D)            (None, 32, 250)           37750     \n",
      "_________________________________________________________________\n",
      "global_max_pooling1d_5 (Glob (None, 250)               0         \n",
      "_________________________________________________________________\n",
      "dense_9 (Dense)              (None, 250)               62750     \n",
      "_________________________________________________________________\n",
      "activation_9 (Activation)    (None, 250)               0         \n",
      "_________________________________________________________________\n",
      "dense_10 (Dense)             (None, 3)                 753       \n",
      "_________________________________________________________________\n",
      "activation_10 (Activation)   (None, 3)                 0         \n",
      "=================================================================\n",
      "Total params: 601,253\n",
      "Trainable params: 601,253\n",
      "Non-trainable params: 0\n",
      "_________________________________________________________________\n"
     ]
    }
   ],
   "source": [
    "model_prediction = Sequential()\n",
    "model_prediction.add(Embedding(10000, 50, input_length=34))\n",
    "model_prediction.add(Dropout(0.5))\n",
    "model_prediction.add(Conv1D(filters=250, kernel_size=3, padding='valid', activation='relu', strides=1))\n",
    "model_prediction.add(GlobalMaxPooling1D())\n",
    "model_prediction.add(Dense(250))\n",
    "model_prediction.add(Activation('relu'))\n",
    "model_prediction.add(Dense(3))\n",
    "model_prediction.add(Activation('sigmoid'))\n",
    "model_prediction.compile(loss='binary_crossentropy', optimizer='adam', metrics=['accuracy'])   \n",
    "\n",
    "model_prediction.summary()"
   ]
  },
  {
   "cell_type": "code",
   "execution_count": 23,
   "metadata": {},
   "outputs": [
    {
     "name": "stdout",
     "output_type": "stream",
     "text": [
      "\u001b[32mTraining the LSTM model\u001b[0m\n"
     ]
    },
    {
     "name": "stderr",
     "output_type": "stream",
     "text": [
      "C:\\Users\\TEMP.DESKTOP-8R6RI8B.000\\Anaconda3\\lib\\site-packages\\tensorflow_core\\python\\framework\\indexed_slices.py:424: UserWarning: Converting sparse IndexedSlices to a dense Tensor of unknown shape. This may consume a large amount of memory.\n",
      "  \"Converting sparse IndexedSlices to a dense Tensor of unknown shape. \"\n"
     ]
    },
    {
     "name": "stdout",
     "output_type": "stream",
     "text": [
      "Epoch 1/10\n",
      "1749/1749 [==============================] - 3s 2ms/step - loss: 0.5771 - accuracy: 0.6930\n",
      "Epoch 2/10\n",
      "1749/1749 [==============================] - 2s 1ms/step - loss: 0.5351 - accuracy: 0.7208\n",
      "Epoch 3/10\n",
      "1749/1749 [==============================] - 2s 994us/step - loss: 0.4508 - accuracy: 0.7669\n",
      "Epoch 4/10\n",
      "1749/1749 [==============================] - 2s 1ms/step - loss: 0.3710 - accuracy: 0.8189\n",
      "Epoch 5/10\n",
      "1749/1749 [==============================] - 2s 1ms/step - loss: 0.2963 - accuracy: 0.8788\n",
      "Epoch 6/10\n",
      "1749/1749 [==============================] - 2s 1ms/step - loss: 0.2235 - accuracy: 0.9156\n",
      "Epoch 7/10\n",
      "1749/1749 [==============================] - 2s 1ms/step - loss: 0.1695 - accuracy: 0.9375\n",
      "Epoch 8/10\n",
      "1749/1749 [==============================] - 2s 996us/step - loss: 0.1311 - accuracy: 0.9562\n",
      "Epoch 9/10\n",
      "1749/1749 [==============================] - 2s 1ms/step - loss: 0.0994 - accuracy: 0.9651\n",
      "Epoch 10/10\n",
      "1749/1749 [==============================] - 2s 1ms/step - loss: 0.0805 - accuracy: 0.9714\n",
      "\u001b[32m<keras.callbacks.callbacks.History object at 0x000001C1C6652AC8>\u001b[0m\n"
     ]
    }
   ],
   "source": [
    "\n",
    "# Training the model\n",
    "print(colored(\"Training the LSTM model\", \"green\"))\n",
    "history = model_prediction.fit(train_tweets, pd.get_dummies(train_data['sent_score']).values, epochs = 10, batch_size = 34)\n",
    "print(colored(history, \"green\"))"
   ]
  },
  {
   "cell_type": "code",
   "execution_count": 24,
   "metadata": {},
   "outputs": [
    {
     "name": "stdout",
     "output_type": "stream",
     "text": [
      "\u001b[32mTesting the LSTM model\u001b[0m\n",
      "508/508 [==============================] - 0s 616us/step\n",
      "Test accuracy: 0.7237532734870911\n",
      "Test loss: 0.27624672651290894\n"
     ]
    }
   ],
   "source": [
    "\n",
    "# Testing the model\n",
    "print(colored(\"Testing the LSTM model\", \"green\"))\n",
    "score, accuracy = model_prediction.evaluate(test_tweets, pd.get_dummies(test_data['sent_score']).values, batch_size = 34)\n",
    "print(\"Test accuracy: {}\".format(accuracy))\n",
    "print(\"Test loss: {}\".format(1-accuracy))"
   ]
  },
  {
   "cell_type": "code",
   "execution_count": null,
   "metadata": {},
   "outputs": [],
   "source": []
  }
 ],
 "metadata": {
  "kernelspec": {
   "display_name": "Python 3",
   "language": "python",
   "name": "python3"
  },
  "language_info": {
   "codemirror_mode": {
    "name": "ipython",
    "version": 3
   },
   "file_extension": ".py",
   "mimetype": "text/x-python",
   "name": "python",
   "nbconvert_exporter": "python",
   "pygments_lexer": "ipython3",
   "version": "3.7.1"
  }
 },
 "nbformat": 4,
 "nbformat_minor": 2
}
