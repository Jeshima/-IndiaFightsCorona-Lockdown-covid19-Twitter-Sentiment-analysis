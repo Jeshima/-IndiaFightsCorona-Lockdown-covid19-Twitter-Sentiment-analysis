{
 "cells": [
  {
   "cell_type": "code",
   "execution_count": 1,
   "metadata": {},
   "outputs": [
    {
     "name": "stdout",
     "output_type": "stream",
     "text": [
      "\u001b[32mLoading train and test data\u001b[0m\n",
      "\u001b[32mData loaded\u001b[0m\n"
     ]
    },
    {
     "name": "stderr",
     "output_type": "stream",
     "text": [
      "Using TensorFlow backend.\n"
     ]
    }
   ],
   "source": [
    "import os\n",
    "import tensorflow\n",
    "os.environ['KERAS_BACKEND'] = 'tensorflow'\n",
    "\n",
    "import keras\n",
    "from keras.models import Sequential\n",
    "from keras.layers import Dense, Embedding, LSTM, SpatialDropout1D\n",
    "from keras.preprocessing.text import Tokenizer\n",
    "from keras.preprocessing.sequence import pad_sequences\n",
    "\n",
    "import pandas as pd\n",
    "from termcolor import colored\n",
    "\n",
    "# Load data\n",
    "print(colored(\"Loading train and test data\", \"green\"))\n",
    "train_data = pd.read_csv('twt_#ifc.csv')\n",
    "test_data = pd.read_csv('nit1.csv')\n",
    "print(colored(\"Data loaded\", \"green\"))"
   ]
  },
  {
   "cell_type": "code",
   "execution_count": 2,
   "metadata": {},
   "outputs": [
    {
     "name": "stdout",
     "output_type": "stream",
     "text": [
      "\u001b[32mTokenizing and padding data\u001b[0m\n",
      "\u001b[33mTokenizing and padding complete\u001b[0m\n"
     ]
    }
   ],
   "source": [
    "# Tokenization\n",
    "print(colored(\"Tokenizing and padding data\", \"green\"))\n",
    "tokenizer = Tokenizer(num_words = 2000, split = ' ')\n",
    "tokenizer.fit_on_texts(train_data['full_text'].astype(str).values)\n",
    "train_tweets = tokenizer.texts_to_sequences(train_data['full_text'].astype(str).values)\n",
    "max_len = max([len(i) for i in train_tweets])\n",
    "train_tweets = pad_sequences(train_tweets, maxlen = max_len)\n",
    "test_tweets = tokenizer.texts_to_sequences(test_data['full_text'].astype(str).values)\n",
    "test_tweets = pad_sequences(test_tweets, maxlen = max_len)\n",
    "print(colored(\"Tokenizing and padding complete\", \"yellow\"))\n"
   ]
  },
  {
   "cell_type": "code",
   "execution_count": 3,
   "metadata": {},
   "outputs": [
    {
     "name": "stdout",
     "output_type": "stream",
     "text": [
      "\u001b[33mCreating the LSTM model\u001b[0m\n",
      "Model: \"sequential_1\"\n",
      "_________________________________________________________________\n",
      "Layer (type)                 Output Shape              Param #   \n",
      "=================================================================\n",
      "embedding_1 (Embedding)      (None, 34, 128)           256000    \n",
      "_________________________________________________________________\n",
      "spatial_dropout1d_1 (Spatial (None, 34, 128)           0         \n",
      "_________________________________________________________________\n",
      "lstm_1 (LSTM)                (None, 256)               394240    \n",
      "_________________________________________________________________\n",
      "dense_1 (Dense)              (None, 3)                 771       \n",
      "=================================================================\n",
      "Total params: 651,011\n",
      "Trainable params: 651,011\n",
      "Non-trainable params: 0\n",
      "_________________________________________________________________\n"
     ]
    }
   ],
   "source": [
    "\n",
    "# Building the model\n",
    "print(colored(\"Creating the LSTM model\", \"yellow\"))\n",
    "model = Sequential()\n",
    "model.add(Embedding(2000, 128, input_length = train_tweets.shape[1]))\n",
    "model.add(SpatialDropout1D(0.4))\n",
    "model.add(LSTM(256, dropout = 0.2))\n",
    "model.add(Dense(3, activation = 'softmax'))\n",
    "model.compile(loss = 'categorical_crossentropy', optimizer = 'adam', metrics = ['accuracy'])\n",
    "model.summary()"
   ]
  },
  {
   "cell_type": "code",
   "execution_count": 4,
   "metadata": {},
   "outputs": [
    {
     "name": "stdout",
     "output_type": "stream",
     "text": [
      "\u001b[32mTraining the LSTM model\u001b[0m\n"
     ]
    },
    {
     "name": "stderr",
     "output_type": "stream",
     "text": [
      "C:\\Users\\TEMP.DESKTOP-8R6RI8B.000\\Anaconda3\\lib\\site-packages\\tensorflow_core\\python\\framework\\indexed_slices.py:424: UserWarning: Converting sparse IndexedSlices to a dense Tensor of unknown shape. This may consume a large amount of memory.\n",
      "  \"Converting sparse IndexedSlices to a dense Tensor of unknown shape. \"\n"
     ]
    },
    {
     "name": "stdout",
     "output_type": "stream",
     "text": [
      "Epoch 1/10\n",
      "1749/1749 [==============================] - 7s 4ms/step - loss: 1.0200 - accuracy: 0.5323\n",
      "Epoch 2/10\n",
      "1749/1749 [==============================] - 5s 3ms/step - loss: 0.9469 - accuracy: 0.5409\n",
      "Epoch 3/10\n",
      "1749/1749 [==============================] - 5s 3ms/step - loss: 0.8754 - accuracy: 0.5489\n",
      "Epoch 4/10\n",
      "1749/1749 [==============================] - 5s 3ms/step - loss: 0.7522 - accuracy: 0.6615\n",
      "Epoch 5/10\n",
      "1749/1749 [==============================] - 5s 3ms/step - loss: 0.5686 - accuracy: 0.7753\n",
      "Epoch 6/10\n",
      "1749/1749 [==============================] - 5s 3ms/step - loss: 0.4507 - accuracy: 0.8353\n",
      "Epoch 7/10\n",
      "1749/1749 [==============================] - 5s 3ms/step - loss: 0.3334 - accuracy: 0.8754\n",
      "Epoch 8/10\n",
      "1749/1749 [==============================] - 5s 3ms/step - loss: 0.2469 - accuracy: 0.9182\n",
      "Epoch 9/10\n",
      "1749/1749 [==============================] - 5s 3ms/step - loss: 0.1891 - accuracy: 0.9383\n",
      "Epoch 10/10\n",
      "1749/1749 [==============================] - 5s 3ms/step - loss: 0.1605 - accuracy: 0.9457\n",
      "\u001b[32m<keras.callbacks.callbacks.History object at 0x0000014AF9244D30>\u001b[0m\n"
     ]
    }
   ],
   "source": [
    "# Training the model\n",
    "print(colored(\"Training the LSTM model\", \"green\"))\n",
    "history = model.fit(train_tweets, pd.get_dummies(train_data['sent_score']).values, epochs = 10, batch_size = 128)\n",
    "print(colored(history, \"green\"))\n"
   ]
  },
  {
   "cell_type": "code",
   "execution_count": 9,
   "metadata": {},
   "outputs": [
    {
     "name": "stdout",
     "output_type": "stream",
     "text": [
      "\u001b[32mTesting the LSTM model\u001b[0m\n",
      "517/517 [==============================] - 0s 758us/step\n",
      "Test accuracy: 0.655705988407135\n",
      "Test loss: 0.344294011592865\n"
     ]
    }
   ],
   "source": [
    "\n",
    "# Testing the model\n",
    "print(colored(\"Testing the LSTM model\", \"green\"))\n",
    "score, accuracy = model.evaluate(test_tweets, pd.get_dummies(test_data['sent_score']).values, batch_size = 128)\n",
    "print(\"Test accuracy: {}\".format(accuracy))\n",
    "print(\"Test loss: {}\".format(1-accuracy))"
   ]
  },
  {
   "cell_type": "code",
   "execution_count": null,
   "metadata": {},
   "outputs": [],
   "source": []
  }
 ],
 "metadata": {
  "kernelspec": {
   "display_name": "Python 3",
   "language": "python",
   "name": "python3"
  },
  "language_info": {
   "codemirror_mode": {
    "name": "ipython",
    "version": 3
   },
   "file_extension": ".py",
   "mimetype": "text/x-python",
   "name": "python",
   "nbconvert_exporter": "python",
   "pygments_lexer": "ipython3",
   "version": "3.7.1"
  }
 },
 "nbformat": 4,
 "nbformat_minor": 2
}
