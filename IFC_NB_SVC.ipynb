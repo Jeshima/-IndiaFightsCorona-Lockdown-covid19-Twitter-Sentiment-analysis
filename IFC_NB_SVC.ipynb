{
 "cells": [
  {
   "cell_type": "code",
   "execution_count": 1,
   "metadata": {},
   "outputs": [],
   "source": [
    "import os\n",
    "\n",
    "import pandas as pd\n",
    "pd.options.display.max_colwidth=200\n",
    "\n",
    "from nltk.corpus import stopwords\n",
    "stops = set(stopwords.words(\"english\"))\n",
    "\n",
    "import warnings\n",
    "warnings.filterwarnings('ignore')\n",
    "\n",
    "import re\n",
    "import numpy as np\n",
    "\n",
    "from nltk.stem import WordNetLemmatizer\n",
    "from bs4 import BeautifulSoup"
   ]
  },
  {
   "cell_type": "code",
   "execution_count": 2,
   "metadata": {},
   "outputs": [
    {
     "name": "stdout",
     "output_type": "stream",
     "text": [
      "(1749, 8)\n"
     ]
    }
   ],
   "source": [
    "train = pd.read_csv('twt_#ifc.csv')\n",
    "print (train.shape)"
   ]
  },
  {
   "cell_type": "code",
   "execution_count": 3,
   "metadata": {},
   "outputs": [
    {
     "data": {
      "text/html": [
       "<div>\n",
       "<style scoped>\n",
       "    .dataframe tbody tr th:only-of-type {\n",
       "        vertical-align: middle;\n",
       "    }\n",
       "\n",
       "    .dataframe tbody tr th {\n",
       "        vertical-align: top;\n",
       "    }\n",
       "\n",
       "    .dataframe thead th {\n",
       "        text-align: right;\n",
       "    }\n",
       "</style>\n",
       "<table border=\"1\" class=\"dataframe\">\n",
       "  <thead>\n",
       "    <tr style=\"text-align: right;\">\n",
       "      <th></th>\n",
       "      <th>full_text</th>\n",
       "      <th>retweet_count</th>\n",
       "      <th>user_followers_count</th>\n",
       "      <th>favorite_count</th>\n",
       "      <th>created_at</th>\n",
       "      <th>pos_score</th>\n",
       "      <th>neg_score</th>\n",
       "      <th>sent_score</th>\n",
       "    </tr>\n",
       "  </thead>\n",
       "  <tbody>\n",
       "    <tr>\n",
       "      <th>0</th>\n",
       "      <td>whi wait get fine govern take care wear mask maintain social distanc facemask lockdow</td>\n",
       "      <td>6</td>\n",
       "      <td>2315</td>\n",
       "      <td>0</td>\n",
       "      <td>Mon Jun 01 12:56:02 +0000 2020</td>\n",
       "      <td>0.125</td>\n",
       "      <td>0.375</td>\n",
       "      <td>-1</td>\n",
       "    </tr>\n",
       "    <tr>\n",
       "      <th>1</th>\n",
       "      <td>start monday delhi govern gave relax lockdown howev educ institut</td>\n",
       "      <td>1</td>\n",
       "      <td>121</td>\n",
       "      <td>0</td>\n",
       "      <td>Mon Jun 01 12:30:05 +0000 2020</td>\n",
       "      <td>0.125</td>\n",
       "      <td>0.500</td>\n",
       "      <td>-1</td>\n",
       "    </tr>\n",
       "    <tr>\n",
       "      <th>2</th>\n",
       "      <td>not meme just inform lockdown look like</td>\n",
       "      <td>0</td>\n",
       "      <td>2</td>\n",
       "      <td>1</td>\n",
       "      <td>Mon Jun 01 12:14:42 +0000 2020</td>\n",
       "      <td>0.000</td>\n",
       "      <td>0.625</td>\n",
       "      <td>-1</td>\n",
       "    </tr>\n",
       "    <tr>\n",
       "      <th>3</th>\n",
       "      <td>with lockdown focu reviv economi howev team vijaykarnataka alreadi stimul economi</td>\n",
       "      <td>9</td>\n",
       "      <td>42</td>\n",
       "      <td>0</td>\n",
       "      <td>Mon Jun 01 12:06:29 +0000 2020</td>\n",
       "      <td>0.375</td>\n",
       "      <td>0.500</td>\n",
       "      <td>-1</td>\n",
       "    </tr>\n",
       "    <tr>\n",
       "      <th>4</th>\n",
       "      <td>hello guy video get look sonam kapoor celebr inspir look priya inturu lockdown unlock priyainturu fashion trend corona covid</td>\n",
       "      <td>0</td>\n",
       "      <td>3</td>\n",
       "      <td>0</td>\n",
       "      <td>Mon Jun 01 11:54:15 +0000 2020</td>\n",
       "      <td>0.000</td>\n",
       "      <td>0.625</td>\n",
       "      <td>-1</td>\n",
       "    </tr>\n",
       "  </tbody>\n",
       "</table>\n",
       "</div>"
      ],
      "text/plain": [
       "                                                                                                                      full_text  \\\n",
       "0                                         whi wait get fine govern take care wear mask maintain social distanc facemask lockdow   \n",
       "1                                                             start monday delhi govern gave relax lockdown howev educ institut   \n",
       "2                                                                                       not meme just inform lockdown look like   \n",
       "3                                             with lockdown focu reviv economi howev team vijaykarnataka alreadi stimul economi   \n",
       "4  hello guy video get look sonam kapoor celebr inspir look priya inturu lockdown unlock priyainturu fashion trend corona covid   \n",
       "\n",
       "   retweet_count  user_followers_count  favorite_count  \\\n",
       "0              6                  2315               0   \n",
       "1              1                   121               0   \n",
       "2              0                     2               1   \n",
       "3              9                    42               0   \n",
       "4              0                     3               0   \n",
       "\n",
       "                       created_at  pos_score  neg_score  sent_score  \n",
       "0  Mon Jun 01 12:56:02 +0000 2020      0.125      0.375          -1  \n",
       "1  Mon Jun 01 12:30:05 +0000 2020      0.125      0.500          -1  \n",
       "2  Mon Jun 01 12:14:42 +0000 2020      0.000      0.625          -1  \n",
       "3  Mon Jun 01 12:06:29 +0000 2020      0.375      0.500          -1  \n",
       "4  Mon Jun 01 11:54:15 +0000 2020      0.000      0.625          -1  "
      ]
     },
     "execution_count": 3,
     "metadata": {},
     "output_type": "execute_result"
    }
   ],
   "source": [
    "train.head()\n"
   ]
  },
  {
   "cell_type": "code",
   "execution_count": 4,
   "metadata": {},
   "outputs": [
    {
     "data": {
      "text/html": [
       "<div>\n",
       "<style scoped>\n",
       "    .dataframe tbody tr th:only-of-type {\n",
       "        vertical-align: middle;\n",
       "    }\n",
       "\n",
       "    .dataframe tbody tr th {\n",
       "        vertical-align: top;\n",
       "    }\n",
       "\n",
       "    .dataframe thead th {\n",
       "        text-align: right;\n",
       "    }\n",
       "</style>\n",
       "<table border=\"1\" class=\"dataframe\">\n",
       "  <thead>\n",
       "    <tr style=\"text-align: right;\">\n",
       "      <th></th>\n",
       "      <th>full_text</th>\n",
       "      <th>retweet_count</th>\n",
       "      <th>user_followers_count</th>\n",
       "      <th>favorite_count</th>\n",
       "      <th>created_at</th>\n",
       "      <th>pos_score</th>\n",
       "      <th>neg_score</th>\n",
       "      <th>sent_score</th>\n",
       "    </tr>\n",
       "  </thead>\n",
       "  <tbody>\n",
       "    <tr>\n",
       "      <th>10</th>\n",
       "      <td>upar upar se karlo ba new mean unlock lockdown</td>\n",
       "      <td>7</td>\n",
       "      <td>340</td>\n",
       "      <td>0</td>\n",
       "      <td>Mon Jun 01 11:03:32 +0000 2020</td>\n",
       "      <td>0.375</td>\n",
       "      <td>0.000</td>\n",
       "      <td>1</td>\n",
       "    </tr>\n",
       "    <tr>\n",
       "      <th>11</th>\n",
       "      <td>As per order date No state deviat lockdown guidelin unless first advertis awar gener public well advanc how come delhi CM seal delhi border It mockeri order</td>\n",
       "      <td>0</td>\n",
       "      <td>17</td>\n",
       "      <td>0</td>\n",
       "      <td>Mon Jun 01 10:05:36 +0000 2020</td>\n",
       "      <td>1.250</td>\n",
       "      <td>0.500</td>\n",
       "      <td>1</td>\n",
       "    </tr>\n",
       "    <tr>\n",
       "      <th>13</th>\n",
       "      <td>keep distanc inde good way stay safe trucker tell long time contact email bhavesh net websit lockdown indiafightscorona logist essentialgood deliveri ship centurycargo</td>\n",
       "      <td>0</td>\n",
       "      <td>7</td>\n",
       "      <td>1</td>\n",
       "      <td>Mon Jun 01 09:58:45 +0000 2020</td>\n",
       "      <td>1.750</td>\n",
       "      <td>0.625</td>\n",
       "      <td>1</td>\n",
       "    </tr>\n",
       "    <tr>\n",
       "      <th>14</th>\n",
       "      <td>respons get permiss resum shoot lie broadcast produc ott platform JD majethia http</td>\n",
       "      <td>3</td>\n",
       "      <td>912652</td>\n",
       "      <td>0</td>\n",
       "      <td>Mon Jun 01 09:04:30 +0000 2020</td>\n",
       "      <td>0.375</td>\n",
       "      <td>0.125</td>\n",
       "      <td>1</td>\n",
       "    </tr>\n",
       "    <tr>\n",
       "      <th>15</th>\n",
       "      <td>espons get permiss resum shoot lie broadcast produc ott platform JD majethia unlock maharashtragovern lockdown covid</td>\n",
       "      <td>3</td>\n",
       "      <td>85374</td>\n",
       "      <td>14</td>\n",
       "      <td>Mon Jun 01 09:04:17 +0000 2020</td>\n",
       "      <td>0.375</td>\n",
       "      <td>0.125</td>\n",
       "      <td>1</td>\n",
       "    </tr>\n",
       "  </tbody>\n",
       "</table>\n",
       "</div>"
      ],
      "text/plain": [
       "                                                                                                                                                                  full_text  \\\n",
       "10                                                                                                                           upar upar se karlo ba new mean unlock lockdown   \n",
       "11             As per order date No state deviat lockdown guidelin unless first advertis awar gener public well advanc how come delhi CM seal delhi border It mockeri order   \n",
       "13  keep distanc inde good way stay safe trucker tell long time contact email bhavesh net websit lockdown indiafightscorona logist essentialgood deliveri ship centurycargo   \n",
       "14                                                                                       respons get permiss resum shoot lie broadcast produc ott platform JD majethia http   \n",
       "15                                                     espons get permiss resum shoot lie broadcast produc ott platform JD majethia unlock maharashtragovern lockdown covid   \n",
       "\n",
       "    retweet_count  user_followers_count  favorite_count  \\\n",
       "10              7                   340               0   \n",
       "11              0                    17               0   \n",
       "13              0                     7               1   \n",
       "14              3                912652               0   \n",
       "15              3                 85374              14   \n",
       "\n",
       "                        created_at  pos_score  neg_score  sent_score  \n",
       "10  Mon Jun 01 11:03:32 +0000 2020      0.375      0.000           1  \n",
       "11  Mon Jun 01 10:05:36 +0000 2020      1.250      0.500           1  \n",
       "13  Mon Jun 01 09:58:45 +0000 2020      1.750      0.625           1  \n",
       "14  Mon Jun 01 09:04:30 +0000 2020      0.375      0.125           1  \n",
       "15  Mon Jun 01 09:04:17 +0000 2020      0.375      0.125           1  "
      ]
     },
     "execution_count": 4,
     "metadata": {},
     "output_type": "execute_result"
    }
   ],
   "source": [
    "train[train.sent_score==1].head()\n"
   ]
  },
  {
   "cell_type": "code",
   "execution_count": 5,
   "metadata": {},
   "outputs": [
    {
     "name": "stdout",
     "output_type": "stream",
     "text": [
      " 1    944\n",
      "-1    576\n",
      " 0    229\n",
      "Name: sent_score, dtype: int64\n",
      "% of hate tweets among all tweets 128.18753573470553\n"
     ]
    }
   ],
   "source": [
    "## Postive VS Negative Tweets\n",
    "print (train.sent_score.value_counts())\n",
    "print ('% of hate tweets among all tweets',100*2242.0/train.shape[0])"
   ]
  },
  {
   "cell_type": "code",
   "execution_count": 6,
   "metadata": {},
   "outputs": [
    {
     "name": "stdout",
     "output_type": "stream",
     "text": [
      "(1224, 2)\n",
      "(525, 2)\n"
     ]
    }
   ],
   "source": [
    "from sklearn.model_selection import train_test_split\n",
    "x_train, x_test, y_train, y_test = train_test_split(train[\"full_text\"], train[\"sent_score\"], test_size=0.3, random_state=4242)\n",
    "\n",
    "train_set = pd.concat([x_train,y_train],axis=1)\n",
    "test_set = pd.concat([x_test,y_test],axis=1)\n",
    "train_set.columns = [\"full_text\",\"sent_score\"]\n",
    "test_set.columns = [\"full_text\",\"sent_score\"]\n",
    "print (train_set.shape)\n",
    "print (test_set.shape)"
   ]
  },
  {
   "cell_type": "code",
   "execution_count": 7,
   "metadata": {},
   "outputs": [],
   "source": [
    "from nltk.corpus import stopwords\n",
    "stops = set(stopwords.words(\"english\"))\n",
    "\n",
    "remove_words = ['user',\"frm\", \"u\", \"urs\", \"n\", \"ur\", \"b\", \"mro\", \"mo\", \"tmr\", \"k\", \"ok\",\n",
    "\"lol\", \"haha\", \"w\", \"moro\", \"yah\", \"cya\", \"cu\", \"eh\", \"hm\", \"hmm\",\n",
    "\"yall\", \"xoxo\", \"yolo\", \"em\", \"v\", \"ver\", \"hav\", \"vry\", \"shud\", \"wer\",\n",
    "\"abt\", \"bc\", \"wen\", \"jus\", \"tht\", \"fr\", \"hs\", \"r\", \"wud\", \"cud\"]\n",
    "\n",
    "def PreProcess(tweet): \n",
    "    #tweet = str(tweet)\n",
    "    tweet = tweet.lower() ## Convert the text to lower case\n",
    "    tweet = BeautifulSoup(tweet, \"lxml\").get_text() ## extract only text by dropping URLS\n",
    "    tweet=re.sub('[^0-9a-zA-Z]', ' ', tweet) ## extract only alpha numeric from a text\n",
    "    #tweet = re.sub(\"[^a-zA-Z]\", \" \", tweet)\n",
    "    tweet = ' '.join([word.strip() for word in tweet.split() if word not in stops]) ## Remove eng stop words\n",
    "    tweet = ' '.join([word for word in tweet.split() if word not in remove_words]) ## Remove specific words\n",
    "    return tweet"
   ]
  },
  {
   "cell_type": "code",
   "execution_count": 8,
   "metadata": {},
   "outputs": [],
   "source": [
    "train_set['cleaned_tweet'] = train_set.full_text.apply(PreProcess)\n",
    "test_set['cleaned_tweet'] = test_set.full_text.apply(PreProcess)"
   ]
  },
  {
   "cell_type": "code",
   "execution_count": 9,
   "metadata": {},
   "outputs": [
    {
     "data": {
      "text/html": [
       "<div>\n",
       "<style scoped>\n",
       "    .dataframe tbody tr th:only-of-type {\n",
       "        vertical-align: middle;\n",
       "    }\n",
       "\n",
       "    .dataframe tbody tr th {\n",
       "        vertical-align: top;\n",
       "    }\n",
       "\n",
       "    .dataframe thead th {\n",
       "        text-align: right;\n",
       "    }\n",
       "</style>\n",
       "<table border=\"1\" class=\"dataframe\">\n",
       "  <thead>\n",
       "    <tr style=\"text-align: right;\">\n",
       "      <th></th>\n",
       "      <th>full_text</th>\n",
       "      <th>sent_score</th>\n",
       "      <th>cleaned_tweet</th>\n",
       "    </tr>\n",
       "  </thead>\n",
       "  <tbody>\n",
       "    <tr>\n",
       "      <th>202</th>\n",
       "      <td>sanitis carri rajpur road branch dehradun zone covid indiafightscorona http</td>\n",
       "      <td>1</td>\n",
       "      <td>sanitis carri rajpur road branch dehradun zone covid indiafightscorona http</td>\n",
       "    </tr>\n",
       "    <tr>\n",
       "      <th>1033</th>\n",
       "      <td>balangir district report fresh covid case</td>\n",
       "      <td>1</td>\n",
       "      <td>balangir district report fresh covid case</td>\n",
       "    </tr>\n",
       "    <tr>\n",
       "      <th>336</th>\n",
       "      <td>special song dedic mother sona mohapatra indiafightscorona</td>\n",
       "      <td>0</td>\n",
       "      <td>special song dedic mother sona mohapatra indiafightscorona</td>\n",
       "    </tr>\n",
       "    <tr>\n",
       "      <th>1242</th>\n",
       "      <td>indiafightscorona regularli clean commonli touch surfac around stay protect covid healthforal</td>\n",
       "      <td>-1</td>\n",
       "      <td>indiafightscorona regularli clean commonli touch surfac around stay protect covid healthforal</td>\n",
       "    </tr>\n",
       "    <tr>\n",
       "      <th>461</th>\n",
       "      <td>I put past moral bankrupt cabinet seed unrest minneapoli tonight you prove everi day lie bed dictat care citizen dead It minneapolisriot covid</td>\n",
       "      <td>1</td>\n",
       "      <td>put past moral bankrupt cabinet seed unrest minneapoli tonight prove everi day lie bed dictat care citizen dead minneapolisriot covid</td>\n",
       "    </tr>\n",
       "  </tbody>\n",
       "</table>\n",
       "</div>"
      ],
      "text/plain": [
       "                                                                                                                                           full_text  \\\n",
       "202                                                                      sanitis carri rajpur road branch dehradun zone covid indiafightscorona http   \n",
       "1033                                                                                                       balangir district report fresh covid case   \n",
       "336                                                                                       special song dedic mother sona mohapatra indiafightscorona   \n",
       "1242                                                   indiafightscorona regularli clean commonli touch surfac around stay protect covid healthforal   \n",
       "461   I put past moral bankrupt cabinet seed unrest minneapoli tonight you prove everi day lie bed dictat care citizen dead It minneapolisriot covid   \n",
       "\n",
       "      sent_score  \\\n",
       "202            1   \n",
       "1033           1   \n",
       "336            0   \n",
       "1242          -1   \n",
       "461            1   \n",
       "\n",
       "                                                                                                                              cleaned_tweet  \n",
       "202                                                             sanitis carri rajpur road branch dehradun zone covid indiafightscorona http  \n",
       "1033                                                                                              balangir district report fresh covid case  \n",
       "336                                                                              special song dedic mother sona mohapatra indiafightscorona  \n",
       "1242                                          indiafightscorona regularli clean commonli touch surfac around stay protect covid healthforal  \n",
       "461   put past moral bankrupt cabinet seed unrest minneapoli tonight prove everi day lie bed dictat care citizen dead minneapolisriot covid  "
      ]
     },
     "execution_count": 9,
     "metadata": {},
     "output_type": "execute_result"
    }
   ],
   "source": [
    "train_set.head()\n"
   ]
  },
  {
   "cell_type": "code",
   "execution_count": 13,
   "metadata": {},
   "outputs": [
    {
     "data": {
      "text/html": [
       "<div>\n",
       "<style scoped>\n",
       "    .dataframe tbody tr th:only-of-type {\n",
       "        vertical-align: middle;\n",
       "    }\n",
       "\n",
       "    .dataframe tbody tr th {\n",
       "        vertical-align: top;\n",
       "    }\n",
       "\n",
       "    .dataframe thead th {\n",
       "        text-align: right;\n",
       "    }\n",
       "</style>\n",
       "<table border=\"1\" class=\"dataframe\">\n",
       "  <thead>\n",
       "    <tr style=\"text-align: right;\">\n",
       "      <th></th>\n",
       "      <th>full_text</th>\n",
       "      <th>sent_score</th>\n",
       "      <th>cleaned_tweet</th>\n",
       "    </tr>\n",
       "  </thead>\n",
       "  <tbody>\n",
       "    <tr>\n",
       "      <th>627</th>\n",
       "      <td>busi transform rapidli At gip prepar new way work We never give At gip call businessposit tatasteelspecialeconomiczon gopalpurindustrialpark covid staysaf makeinindia indiafightscorona worldfights...</td>\n",
       "      <td>-1</td>\n",
       "      <td>busi transform rapidli gip prepar new way work never give gip call businessposit tatasteelspecialeconomiczon gopalpurindustrialpark covid staysaf makeinindia indiafightscorona worldfightscorona</td>\n",
       "    </tr>\n",
       "    <tr>\n",
       "      <th>423</th>\n",
       "      <td>indiafightscorona Do hesit wait report immedi earli diagnosi share inform hel</td>\n",
       "      <td>-1</td>\n",
       "      <td>indiafightscorona hesit wait report immedi earli diagnosi share inform hel</td>\n",
       "    </tr>\n",
       "    <tr>\n",
       "      <th>1496</th>\n",
       "      <td>durham polic say trip barnard castl breach regul health protect coronaviru restrict</td>\n",
       "      <td>1</td>\n",
       "      <td>durham polic say trip barnard castl breach regul health protect coronaviru restrict</td>\n",
       "    </tr>\n",
       "    <tr>\n",
       "      <th>1010</th>\n",
       "      <td>A week ago ask member state use covid introduc polici solv controversi issu countri thi includ illeg immigr protection etc some member state never listen</td>\n",
       "      <td>-1</td>\n",
       "      <td>week ago ask member state use covid introduc polici solv controversi issu countri thi includ illeg immigr protection etc member state never listen</td>\n",
       "    </tr>\n",
       "    <tr>\n",
       "      <th>1648</th>\n",
       "      <td>vandebharatmiss M V nicobar ship begin journey chennai port blair strand passeng board</td>\n",
       "      <td>0</td>\n",
       "      <td>vandebharatmiss nicobar ship begin journey chennai port blair strand passeng board</td>\n",
       "    </tr>\n",
       "  </tbody>\n",
       "</table>\n",
       "</div>"
      ],
      "text/plain": [
       "                                                                                                                                                                                                    full_text  \\\n",
       "627   busi transform rapidli At gip prepar new way work We never give At gip call businessposit tatasteelspecialeconomiczon gopalpurindustrialpark covid staysaf makeinindia indiafightscorona worldfights...   \n",
       "423                                                                                                                             indiafightscorona Do hesit wait report immedi earli diagnosi share inform hel   \n",
       "1496                                                                                                                      durham polic say trip barnard castl breach regul health protect coronaviru restrict   \n",
       "1010                                                A week ago ask member state use covid introduc polici solv controversi issu countri thi includ illeg immigr protection etc some member state never listen   \n",
       "1648                                                                                                                   vandebharatmiss M V nicobar ship begin journey chennai port blair strand passeng board   \n",
       "\n",
       "      sent_score  \\\n",
       "627           -1   \n",
       "423           -1   \n",
       "1496           1   \n",
       "1010          -1   \n",
       "1648           0   \n",
       "\n",
       "                                                                                                                                                                                          cleaned_tweet  \n",
       "627   busi transform rapidli gip prepar new way work never give gip call businessposit tatasteelspecialeconomiczon gopalpurindustrialpark covid staysaf makeinindia indiafightscorona worldfightscorona  \n",
       "423                                                                                                                          indiafightscorona hesit wait report immedi earli diagnosi share inform hel  \n",
       "1496                                                                                                                durham polic say trip barnard castl breach regul health protect coronaviru restrict  \n",
       "1010                                                 week ago ask member state use covid introduc polici solv controversi issu countri thi includ illeg immigr protection etc member state never listen  \n",
       "1648                                                                                                                 vandebharatmiss nicobar ship begin journey chennai port blair strand passeng board  "
      ]
     },
     "execution_count": 13,
     "metadata": {},
     "output_type": "execute_result"
    }
   ],
   "source": [
    "test_set.head()"
   ]
  },
  {
   "cell_type": "code",
   "execution_count": 9,
   "metadata": {},
   "outputs": [],
   "source": [
    "### Building TFIDF features### \n",
    "from sklearn.feature_extraction.text import CountVectorizer\n",
    "from sklearn.feature_extraction.text import TfidfVectorizer\n",
    "from sklearn.feature_extraction.text import HashingVectorizer\n",
    "\n",
    "vectorizer = TfidfVectorizer(ngram_range=(1, 2),analyzer='word')\n",
    "\n",
    "\n",
    "train_tfidf = vectorizer.fit_transform(train_set.cleaned_tweet)\n",
    "\n",
    "test_tfidf = vectorizer.transform(test_set.cleaned_tweet)"
   ]
  },
  {
   "cell_type": "code",
   "execution_count": 11,
   "metadata": {},
   "outputs": [],
   "source": [
    "#vectorizer.get_feature_names()\n",
    "#help(TfidfVectorizer)\n"
   ]
  },
  {
   "cell_type": "code",
   "execution_count": 10,
   "metadata": {},
   "outputs": [
    {
     "name": "stdout",
     "output_type": "stream",
     "text": [
      "(1224, 14840)\n",
      "(525, 14840)\n"
     ]
    }
   ],
   "source": [
    "\n",
    "#train_tfidf = train_tfidf[4::]\n",
    "print (train_tfidf.shape)\n",
    "print (test_tfidf.shape)"
   ]
  },
  {
   "cell_type": "code",
   "execution_count": 13,
   "metadata": {},
   "outputs": [],
   "source": [
    "from sklearn.decomposition import TruncatedSVD\n",
    "n_comp = 10\n",
    "svd_obj = TruncatedSVD(n_components=n_comp, algorithm='arpack')\n",
    "svd_obj.fit(train_tfidf)\n",
    "train_svd = pd.DataFrame(svd_obj.transform(train_tfidf))\n",
    "test_svd = pd.DataFrame(svd_obj.transform(test_tfidf))\n",
    "    \n",
    "train_svd.columns = ['svd_word_'+str(i) for i in range(n_comp)]\n",
    "test_svd.columns = ['svd_word_'+str(i) for i in range(n_comp)]"
   ]
  },
  {
   "cell_type": "code",
   "execution_count": 11,
   "metadata": {},
   "outputs": [
    {
     "name": "stdout",
     "output_type": "stream",
     "text": [
      "0.6666666666666666\n",
      "0.5947123556016478\n"
     ]
    }
   ],
   "source": [
    "\n",
    "from sklearn.svm import SVC, LinearSVC, NuSVC\n",
    "\n",
    "from sklearn.metrics import f1_score\n",
    "from sklearn.metrics import accuracy_score\n",
    "\n",
    "clf = LinearSVC(C=4)\n",
    "clf.fit(train_tfidf,train_set.sent_score)\n",
    "svm_pred_test_label=clf.predict(test_tfidf)\n",
    "\n",
    "print (accuracy_score(y_true=test_set.sent_score, y_pred=svm_pred_test_label))\n",
    "print (f1_score(y_true=test_set.sent_score, y_pred=svm_pred_test_label, average='macro'))"
   ]
  },
  {
   "cell_type": "code",
   "execution_count": 12,
   "metadata": {},
   "outputs": [
    {
     "name": "stdout",
     "output_type": "stream",
     "text": [
      "0.64\n",
      "0.5486027236027237\n"
     ]
    }
   ],
   "source": [
    "\n",
    "from sklearn.naive_bayes import MultinomialNB\n",
    "clf = MultinomialNB(alpha=0.009)\n",
    "clf.fit(train_tfidf,train_set.sent_score)\n",
    "svm_pred_test_label=clf.predict(test_tfidf)\n",
    "\n",
    "print (accuracy_score(y_true=test_set.sent_score, y_pred=svm_pred_test_label))\n",
    "print (f1_score(y_true=test_set.sent_score, y_pred=svm_pred_test_label, average='macro'))\n",
    "\n",
    " "
   ]
  },
  {
   "cell_type": "code",
   "execution_count": null,
   "metadata": {},
   "outputs": [],
   "source": []
  }
 ],
 "metadata": {
  "kernelspec": {
   "display_name": "Python 3",
   "language": "python",
   "name": "python3"
  },
  "language_info": {
   "codemirror_mode": {
    "name": "ipython",
    "version": 3
   },
   "file_extension": ".py",
   "mimetype": "text/x-python",
   "name": "python",
   "nbconvert_exporter": "python",
   "pygments_lexer": "ipython3",
   "version": "3.7.1"
  }
 },
 "nbformat": 4,
 "nbformat_minor": 2
}
