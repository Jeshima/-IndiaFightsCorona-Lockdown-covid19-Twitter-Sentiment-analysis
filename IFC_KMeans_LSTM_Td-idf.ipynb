{
 "cells": [
  {
   "cell_type": "code",
   "execution_count": 8,
   "metadata": {},
   "outputs": [
    {
     "name": "stderr",
     "output_type": "stream",
     "text": [
      "Using TensorFlow backend.\n"
     ]
    }
   ],
   "source": [
    "%matplotlib inline\n",
    "import re\n",
    "import sqlite3\n",
    "import pandas as pd\n",
    "import numpy as np\n",
    "import nltk\n",
    "import tqdm as tqdm\n",
    "import string\n",
    "from nltk.corpus import stopwords\n",
    "stop = stopwords.words(\"english\")\n",
    "import matplotlib.pyplot as plt\n",
    "import numpy as np\n",
    "import datetime as dt\n",
    "from sklearn.feature_extraction.text import TfidfTransformer\n",
    "from sklearn.feature_extraction.text import CountVectorizer\n",
    "from sklearn.model_selection import train_test_split\n",
    "from sklearn.metrics import confusion_matrix\n",
    "from sklearn import metrics\n",
    "from sklearn.metrics import roc_curve, auc\n",
    "from nltk.stem.porter import PorterStemmer\n",
    "english_stemmer=nltk.stem.SnowballStemmer('english')\n",
    "\n",
    "from gensim import summarization\n",
    "from nltk.tokenize import word_tokenize\n",
    "from sklearn.feature_extraction.text import TfidfVectorizer\n",
    "from sklearn.model_selection import train_test_split\n",
    "from sklearn.metrics import accuracy_score\n",
    "from sklearn.metrics import confusion_matrix\n",
    "from math import floor,ceil\n",
    "\n",
    "from sklearn.svm import LinearSVC\n",
    "\n",
    "from keras.models import Sequential\n",
    "from keras.layers import LSTM, Dense, Embedding\n",
    "import seaborn as sns"
   ]
  },
  {
   "cell_type": "code",
   "execution_count": 9,
   "metadata": {},
   "outputs": [],
   "source": [
    "data = pd.read_csv('twt_#ifc.csv')\n"
   ]
  },
  {
   "cell_type": "code",
   "execution_count": 10,
   "metadata": {},
   "outputs": [
    {
     "data": {
      "text/plain": [
       "Index(['full_text', 'retweet_count', 'user_followers_count', 'favorite_count',\n",
       "       'created_at', 'pos_score', 'neg_score', 'sent_score'],\n",
       "      dtype='object')"
      ]
     },
     "execution_count": 10,
     "metadata": {},
     "output_type": "execute_result"
    }
   ],
   "source": [
    "data.columns\n"
   ]
  },
  {
   "cell_type": "code",
   "execution_count": 11,
   "metadata": {},
   "outputs": [],
   "source": [
    "data=data.drop(['retweet_count', 'user_followers_count', 'favorite_count',\n",
    "       'created_at'],axis=1)\n"
   ]
  },
  {
   "cell_type": "markdown",
   "metadata": {},
   "source": [
    "Overall Score\n",
    "\n"
   ]
  },
  {
   "cell_type": "code",
   "execution_count": 12,
   "metadata": {},
   "outputs": [
    {
     "data": {
      "text/plain": [
       "<matplotlib.axes._subplots.AxesSubplot at 0x135974255c0>"
      ]
     },
     "execution_count": 12,
     "metadata": {},
     "output_type": "execute_result"
    },
    {
     "data": {
      "image/png": "[encoded data removed]",
      "text/plain": [
       "<Figure size 432x288 with 1 Axes>"
      ]
     },
     "metadata": {
      "needs_background": "light"
     },
     "output_type": "display_data"
    }
   ],
   "source": [
    "sns.countplot(data['sent_score'])\n"
   ]
  },
  {
   "cell_type": "markdown",
   "metadata": {},
   "source": [
    "Data Pre Processing\n",
    "\n"
   ]
  },
  {
   "cell_type": "code",
   "execution_count": 13,
   "metadata": {},
   "outputs": [],
   "source": [
    "def cleaning( review, remove_stopwords=True):\n",
    "   \n",
    "    \n",
    "\n",
    "    review_text = re.sub(\"[^a-zA-Z]\",\" \", review)\n",
    "   \n",
    "    words = review_text.lower().split()\n",
    "    \n",
    "    if remove_stopwords:\n",
    "        stops = set(stopwords.words(\"english\"))\n",
    "        words = [w for w in words if not w in stops]\n",
    "\n",
    "    b=[]\n",
    "    stemmer = english_stemmer \n",
    "    for word in words:\n",
    "        b.append(stemmer.stem(word))\n",
    "\n",
    "    \n",
    "    return(b)\n"
   ]
  },
  {
   "cell_type": "markdown",
   "metadata": {},
   "source": [
    "Cleaning\n",
    "\n"
   ]
  },
  {
   "cell_type": "code",
   "execution_count": 19,
   "metadata": {},
   "outputs": [],
   "source": [
    "clean_Text = []\n",
    "for review in data['full_text']:\n",
    "    clean_Text.append( \" \".join(cleaning(review)))\n"
   ]
  },
  {
   "cell_type": "markdown",
   "metadata": {},
   "source": [
    "Top Word Count In Text(Review)\n",
    "\n"
   ]
  },
  {
   "cell_type": "code",
   "execution_count": 26,
   "metadata": {},
   "outputs": [
    {
     "name": "stdout",
     "output_type": "stream",
     "text": [
      "Top Count Words Used In Review -- covid                939\n",
      "lockdown             686\n",
      "indiafightscorona    341\n",
      "amp                  188\n",
      "india                187\n",
      "case                 182\n",
      "coronaviru           130\n",
      "new                  124\n",
      "peopl                113\n",
      "state                103\n",
      "dtype: int64\n"
     ]
    }
   ],
   "source": [
    "Top_Words_Review =pd.Series(' '.join(clean_Text).lower().split()).value_counts()[:10]\n",
    "print (\"Top Count Words Used In Review --\", Top_Words_Review)\n"
   ]
  },
  {
   "cell_type": "markdown",
   "metadata": {},
   "source": [
    "Tf-idf\n",
    "\n"
   ]
  },
  {
   "cell_type": "code",
   "execution_count": 42,
   "metadata": {},
   "outputs": [
    {
     "name": "stdout",
     "output_type": "stream",
     "text": [
      "social: 4.941010542301399\n",
      "like: 4.40692805637114\n",
      "covid: 1.7617319720575568\n",
      "inspir: 6.521460917862246\n",
      "death: 4.324236340526027\n"
     ]
    }
   ],
   "source": [
    "from sklearn.feature_extraction.text import TfidfVectorizer\n",
    "vectorizer = TfidfVectorizer(min_df=4, max_features = 10000)\n",
    "vz = vectorizer.fit_transform(clean_Text)\n",
    "tfidf = dict(zip(vectorizer.get_feature_names(), vectorizer.idf_))\n",
    "print(\"social: \" + str(tfidf[\"social\"]))\n",
    "print(\"like: \" + str(tfidf[\"like\"]))\n",
    "print(\"covid: \" + str(tfidf[\"covid\"]))\n",
    "print(\"inspir: \" + str(tfidf[\"inspir\"]))\n",
    "print(\"death: \" + str(tfidf[\"death\"]))"
   ]
  },
  {
   "cell_type": "markdown",
   "metadata": {},
   "source": [
    "Sentiment Analysis\n",
    "\n"
   ]
  },
  {
   "cell_type": "code",
   "execution_count": 43,
   "metadata": {},
   "outputs": [
    {
     "name": "stdout",
     "output_type": "stream",
     "text": [
      "compound: 0.6124, \n",
      "neg: 0.0, \n",
      "neu: 0.706, \n",
      "pos: 0.294, \n",
      "whi wait get fine govern take care wear mask maintain social distanc facemask lockdow\n",
      "\n",
      "\n",
      "compound: 0.4404, \n",
      "neg: 0.0, \n",
      "neu: 0.756, \n",
      "pos: 0.244, \n",
      "start monday delhi govern gave relax lockdown howev educ institut\n",
      "\n",
      "\n",
      "compound: 0.3612, \n",
      "neg: 0.0, \n",
      "neu: 0.615, \n",
      "pos: 0.385, \n",
      "meme inform lockdown look like\n",
      "\n",
      "\n",
      "compound: 0.0, \n",
      "neg: 0.0, \n",
      "neu: 1.0, \n",
      "pos: 0.0, \n",
      "lockdown focu reviv economi howev team vijaykarnataka alreadi stimul economi\n",
      "\n",
      "\n",
      "compound: 0.0, \n",
      "neg: 0.0, \n",
      "neu: 1.0, \n",
      "pos: 0.0, \n",
      "hello guy video get look sonam kapoor celebr inspir look priya inturu lockdown unlock priyainturu fashion trend corona covid\n",
      "\n",
      "\n"
     ]
    }
   ],
   "source": [
    "from nltk.sentiment.vader import SentimentIntensityAnalyzer\n",
    "Senti = SentimentIntensityAnalyzer()\n",
    "sample_review = clean_Text[:5]\n",
    "for sentence in sample_review:\n",
    "    sentence\n",
    "    ss = Senti.polarity_scores(sentence)\n",
    "    for k in sorted(ss):\n",
    "        print('{0}: {1}, '.format(k, ss[k]))\n",
    "    print( sentence) \n",
    "    print('\\n')"
   ]
  },
  {
   "cell_type": "markdown",
   "metadata": {},
   "source": [
    "k-Means"
   ]
  },
  {
   "cell_type": "code",
   "execution_count": 44,
   "metadata": {},
   "outputs": [
    {
     "name": "stdout",
     "output_type": "stream",
     "text": [
      "Cluster 0:\n",
      " covid\n",
      " india\n",
      " coronaviru\n",
      " pandem\n",
      " indiafightscorona\n",
      "\n",
      "Cluster 1:\n",
      " amp\n",
      " covid\n",
      " talk\n",
      " friend\n",
      " startup\n",
      "\n",
      "Cluster 2:\n",
      " guidelin\n",
      " lockdown\n",
      " open\n",
      " june\n",
      " mall\n",
      "\n",
      "Cluster 3:\n",
      " test\n",
      " covid\n",
      " coronaviru\n",
      " posit\n",
      " app\n",
      "\n",
      "Cluster 4:\n",
      " case\n",
      " covid\n",
      " total\n",
      " new\n",
      " activ\n",
      "\n",
      "Cluster 5:\n",
      " indiafightscorona\n",
      " passeng\n",
      " covid\n",
      " train\n",
      " hand\n",
      "\n",
      "Cluster 6:\n",
      " lockdown\n",
      " state\n",
      " govern\n",
      " happen\n",
      " noth\n",
      "\n",
      "Cluster 7:\n",
      " peopl\n",
      " amp\n",
      " covid\n",
      " age\n",
      " distribut\n",
      "\n",
      "Cluster 8:\n",
      " corona\n",
      " one\n",
      " lockdown\n",
      " like\n",
      " plea\n",
      "\n",
      "Cluster 9:\n",
      " lockdown\n",
      " unlock\n",
      " june\n",
      " till\n",
      " extend\n",
      "\n"
     ]
    }
   ],
   "source": [
    "from sklearn.cluster import MiniBatchKMeans\n",
    "\n",
    "num_clusters = 10\n",
    "kmeans_model = MiniBatchKMeans(n_clusters=num_clusters, init='k-means++', n_init=1, \n",
    "                         init_size=1000, batch_size=1000, verbose=False, max_iter=1000)\n",
    "kmeans = kmeans_model.fit(vz)\n",
    "kmeans_clusters = kmeans.predict(vz)\n",
    "kmeans_distances = kmeans.transform(vz)\n",
    "sorted_centroids = kmeans.cluster_centers_.argsort()[:, ::-1]\n",
    "terms = vectorizer.get_feature_names()\n",
    "for i in range(num_clusters):\n",
    "    print(\"Cluster %d:\" % i)\n",
    "    for j in sorted_centroids[i, :5]:\n",
    "        print(' %s' % terms[j])\n",
    "    print()"
   ]
  },
  {
   "cell_type": "markdown",
   "metadata": {},
   "source": [
    "LSTM "
   ]
  },
  {
   "cell_type": "code",
   "execution_count": 51,
   "metadata": {},
   "outputs": [
    {
     "name": "stderr",
     "output_type": "stream",
     "text": [
      "C:\\Users\\TEMP.DESKTOP-8R6RI8B.000\\Anaconda3\\lib\\site-packages\\ipykernel_launcher.py:22: UserWarning: The `nb_epoch` argument in `fit` has been renamed `epochs`.\n"
     ]
    },
    {
     "name": "stdout",
     "output_type": "stream",
     "text": [
      "Epoch 1/10\n",
      "1574/1574 [==============================] - 1s 917us/step - loss: 1.1531 - accuracy: 0.5394\n",
      "Epoch 2/10\n",
      "1574/1574 [==============================] - 1s 667us/step - loss: 0.7748 - accuracy: 0.6728\n",
      "Epoch 3/10\n",
      "1574/1574 [==============================] - 1s 676us/step - loss: 0.5660 - accuracy: 0.8126\n",
      "Epoch 4/10\n",
      "1574/1574 [==============================] - 1s 675us/step - loss: 0.3988 - accuracy: 0.8964\n",
      "Epoch 5/10\n",
      "1574/1574 [==============================] - 1s 664us/step - loss: 0.2746 - accuracy: 0.9352\n",
      "Epoch 6/10\n",
      "1574/1574 [==============================] - 1s 669us/step - loss: 0.1893 - accuracy: 0.9581\n",
      "Epoch 7/10\n",
      "1574/1574 [==============================] - 1s 652us/step - loss: 0.1321 - accuracy: 0.9727\n",
      "Epoch 8/10\n",
      "1574/1574 [==============================] - 1s 657us/step - loss: 0.0938 - accuracy: 0.9803\n",
      "Epoch 9/10\n",
      "1574/1574 [==============================] - 1s 638us/step - loss: 0.0670 - accuracy: 0.98670s - loss: 0.0690 - accu\n",
      "Epoch 10/10\n",
      "1574/1574 [==============================] - 1s 667us/step - loss: 0.0490 - accuracy: 0.9892\n",
      "175/175 [==============================] - 0s 1ms/step\n"
     ]
    },
    {
     "data": {
      "text/plain": [
       "0.8941591249193463"
      ]
     },
     "execution_count": 51,
     "metadata": {},
     "output_type": "execute_result"
    }
   ],
   "source": [
    "Text = data.full_text\n",
    "Ratings = data.sent_score\n",
    "vectorizer = TfidfVectorizer(max_df=.8)\n",
    "vectorizer.fit(Text)\n",
    "def categorize(ratings):\n",
    "    cats = []\n",
    "    for rating in ratings:\n",
    "        v = [0,0,0,0,0]\n",
    "        v[rating-1] = 1\n",
    "        cats.append(v)\n",
    "    return np.array(cats)\n",
    "\n",
    "X = vectorizer.transform(Text).toarray()\n",
    "y = categorize(Ratings.values)\n",
    "\n",
    "X_train, X_test, y_train, y_test = train_test_split(X,y,test_size=.1)\n",
    "\n",
    "model = Sequential()\n",
    "model.add(Dense(256,input_dim=X_train.shape[1]))\n",
    "model.add(Dense(5,activation='softmax'))\n",
    "model.compile(loss='categorical_crossentropy',optimizer='rmsprop',metrics=['accuracy'])\n",
    "model.fit(X_train,y_train,nb_epoch=10,batch_size=32,verbose=1)\n",
    "model.evaluate(X_test,y_test)[0]"
   ]
  },
  {
   "cell_type": "code",
   "execution_count": null,
   "metadata": {},
   "outputs": [],
   "source": []
  }
 ],
 "metadata": {
  "kernelspec": {
   "display_name": "Python 3",
   "language": "python",
   "name": "python3"
  }
 },
 "nbformat": 4,
 "nbformat_minor": 2
}
